{
 "cells": [
  {
   "cell_type": "markdown",
   "id": "eca879c6",
   "metadata": {},
   "source": [
    "# 📊 COVID-19 Data Analysis Project\n",
    "\n",
    "This notebook analyzes COVID-19 data using the Our World in Data dataset. It includes data loading, cleaning, exploratory analysis, and vaccination progress visualizations."
   ]
  },
  {
   "cell_type": "code",
   "execution_count": null,
   "id": "1310e4dc",
   "metadata": {},
   "outputs": [],
   "source": [
    "import pandas as pd\n",
    "import matplotlib.pyplot as plt\n",
    "import seaborn as sns\n",
    "import plotly.express as px\n",
    "\n",
    "# Enable inline plotting\n",
    "%matplotlib inline\n"
   ]
  },
  {
   "cell_type": "code",
   "execution_count": null,
   "id": "22d0ac21",
   "metadata": {},
   "outputs": [],
   "source": [
    "# Load the dataset\n",
    "df = pd.read_csv('owid-covid-data.csv')\n",
    "\n",
    "# Show basic structure\n",
    "print(df.columns)\n",
    "df.head()\n"
   ]
  },
  {
   "cell_type": "code",
   "execution_count": null,
   "id": "0a114d0e",
   "metadata": {},
   "outputs": [],
   "source": [
    "# Check for missing values\n",
    "df.isnull().sum().sort_values(ascending=False)\n"
   ]
  },
  {
   "cell_type": "code",
   "execution_count": null,
   "id": "4a0f38eb",
   "metadata": {},
   "outputs": [],
   "source": [
    "# Focus on selected countries\n",
    "countries = ['Kenya', 'United States', 'India']\n",
    "df = df[df['location'].isin(countries)]\n",
    "\n",
    "# Convert date column\n",
    "df['date'] = pd.to_datetime(df['date'])\n",
    "\n",
    "# Drop rows with missing critical values\n",
    "df = df.dropna(subset=['total_cases', 'total_deaths'])\n",
    "\n",
    "# Fill remaining with zeros where appropriate\n",
    "df[['new_cases', 'new_deaths', 'total_vaccinations']] = df[['new_cases', 'new_deaths', 'total_vaccinations']].fillna(0)\n"
   ]
  },
  {
   "cell_type": "code",
   "execution_count": null,
   "id": "d2b5d8c6",
   "metadata": {},
   "outputs": [],
   "source": [
    "for country in countries:\n",
    "    country_data = df[df['location'] == country]\n",
    "    plt.plot(country_data['date'], country_data['total_cases'], label=country)\n",
    "\n",
    "plt.title(\"Total COVID-19 Cases Over Time\")\n",
    "plt.xlabel(\"Date\")\n",
    "plt.ylabel(\"Total Cases\")\n",
    "plt.legend()\n",
    "plt.grid(True)\n",
    "plt.show()\n"
   ]
  },
  {
   "cell_type": "code",
   "execution_count": null,
   "id": "7045a086",
   "metadata": {},
   "outputs": [],
   "source": [
    "df['death_rate'] = df['total_deaths'] / df['total_cases']\n",
    "\n",
    "for country in countries:\n",
    "    country_data = df[df['location'] == country]\n",
    "    plt.plot(country_data['date'], country_data['death_rate'], label=country)\n",
    "\n",
    "plt.title(\"COVID-19 Death Rate Over Time\")\n",
    "plt.xlabel(\"Date\")\n",
    "plt.ylabel(\"Death Rate\")\n",
    "plt.legend()\n",
    "plt.grid(True)\n",
    "plt.show()\n"
   ]
  },
  {
   "cell_type": "code",
   "execution_count": null,
   "id": "a669f895",
   "metadata": {},
   "outputs": [],
   "source": [
    "for country in countries:\n",
    "    country_data = df[df['location'] == country]\n",
    "    plt.plot(country_data['date'], country_data['total_vaccinations'], label=country)\n",
    "\n",
    "plt.title(\"Total Vaccinations Over Time\")\n",
    "plt.xlabel(\"Date\")\n",
    "plt.ylabel(\"Total Vaccinations\")\n",
    "plt.legend()\n",
    "plt.grid(True)\n",
    "plt.show()\n"
   ]
  },
  {
   "cell_type": "code",
   "execution_count": null,
   "id": "ff793a4b",
   "metadata": {},
   "outputs": [],
   "source": [
    "plt.figure(figsize=(10,6))\n",
    "for country in countries:\n",
    "    country_data = df[df['location'] == country].copy()\n",
    "    country_data['new_cases_ma'] = country_data['new_cases'].rolling(window=7).mean()\n",
    "    plt.plot(country_data['date'], country_data['new_cases_ma'], label=country)\n",
    "\n",
    "plt.title(\"7-Day Moving Average of New COVID-19 Cases\")\n",
    "plt.xlabel(\"Date\")\n",
    "plt.ylabel(\"New Cases (7-day MA)\")\n",
    "plt.legend()\n",
    "plt.grid(True)\n",
    "plt.show()\n"
   ]
  },
  {
   "cell_type": "code",
   "execution_count": null,
   "id": "3089f2dc",
   "metadata": {},
   "outputs": [],
   "source": [
    "latest = df[df['date'] == df['date'].max()]\n",
    "latest = latest[['iso_code', 'location', 'total_cases']].dropna()\n",
    "\n",
    "fig = px.choropleth(latest,\n",
    "                    locations='iso_code',\n",
    "                    color='total_cases',\n",
    "                    hover_name='location',\n",
    "                    title='Total COVID-19 Cases by Country (Latest)',\n",
    "                    color_continuous_scale='Reds')\n",
    "fig.show()\n"
   ]
  },
  {
   "cell_type": "markdown",
   "id": "66933283",
   "metadata": {},
   "source": [
    "## 📌 Key Insights\n",
    "\n",
    "- The United States had the highest number of total cases among the selected countries.\n",
    "- Death rates vary over time and differ between countries.\n",
    "- Vaccination rollouts were faster in the United States and India compared to Kenya.\n",
    "- Moving average trends help smooth out spikes in daily new cases.\n"
   ]
  }
 ],
 "metadata": {},
 "nbformat": 4,
 "nbformat_minor": 5
}
